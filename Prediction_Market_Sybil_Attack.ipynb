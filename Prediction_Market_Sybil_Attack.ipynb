{
  "nbformat": 4,
  "nbformat_minor": 0,
  "metadata": {
    "colab": {
      "provenance": [],
      "collapsed_sections": [
        "MKjgb0Yf_HVz"
      ]
    },
    "kernelspec": {
      "name": "python3",
      "display_name": "Python 3"
    },
    "language_info": {
      "name": "python"
    }
  },
  "cells": [
    {
      "cell_type": "markdown",
      "source": [
        "# Sybil Attack Objectives \n",
        "\n",
        "- skew odds that we receive an A grade in our favor\n",
        "- place bets to prediction market contract\n"
      ],
      "metadata": {
        "id": "1YcAL5gXRGh2"
      }
    },
    {
      "cell_type": "code",
      "execution_count": null,
      "metadata": {
        "colab": {
          "base_uri": "https://localhost:8080/"
        },
        "id": "hWo-ALIx-s17",
        "outputId": "061d2b3b-05ae-4ad6-dbef-9e7b96364d9b"
      },
      "outputs": [
        {
          "output_type": "stream",
          "name": "stdout",
          "text": [
            "Looking in indexes: https://pypi.org/simple, https://us-python.pkg.dev/colab-wheels/public/simple/\n",
            "Collecting web3\n",
            "  Downloading web3-6.2.0-py3-none-any.whl (571 kB)\n",
            "\u001b[2K     \u001b[90m━━━━━━━━━━━━━━━━━━━━━━━━━━━━━━━━━━━━━━\u001b[0m \u001b[32m572.0/572.0 kB\u001b[0m \u001b[31m19.3 MB/s\u001b[0m eta \u001b[36m0:00:00\u001b[0m\n",
            "\u001b[?25hCollecting eth-abi>=4.0.0\n",
            "  Downloading eth_abi-4.0.0-py3-none-any.whl (28 kB)\n",
            "Collecting eth-account>=0.8.0\n",
            "  Downloading eth_account-0.8.0-py3-none-any.whl (102 kB)\n",
            "\u001b[2K     \u001b[90m━━━━━━━━━━━━━━━━━━━━━━━━━━━━━━━━━━━━━━━\u001b[0m \u001b[32m102.4/102.4 kB\u001b[0m \u001b[31m6.3 MB/s\u001b[0m eta \u001b[36m0:00:00\u001b[0m\n",
            "\u001b[?25hCollecting aiohttp>=3.7.4.post0\n",
            "  Downloading aiohttp-3.8.4-cp39-cp39-manylinux_2_17_x86_64.manylinux2014_x86_64.whl (1.0 MB)\n",
            "\u001b[2K     \u001b[90m━━━━━━━━━━━━━━━━━━━━━━━━━━━━━━━━━━━━━━━━\u001b[0m \u001b[32m1.0/1.0 MB\u001b[0m \u001b[31m18.0 MB/s\u001b[0m eta \u001b[36m0:00:00\u001b[0m\n",
            "\u001b[?25hRequirement already satisfied: jsonschema>=4.0.0 in /usr/local/lib/python3.9/dist-packages (from web3) (4.3.3)\n",
            "Collecting protobuf>=4.21.6\n",
            "  Downloading protobuf-4.22.3-cp37-abi3-manylinux2014_x86_64.whl (302 kB)\n",
            "\u001b[2K     \u001b[90m━━━━━━━━━━━━━━━━━━━━━━━━━━━━━━━━━━━━━━━\u001b[0m \u001b[32m302.4/302.4 kB\u001b[0m \u001b[31m3.3 MB/s\u001b[0m eta \u001b[36m0:00:00\u001b[0m\n",
            "\u001b[?25hCollecting hexbytes>=0.1.0\n",
            "  Downloading hexbytes-0.3.0-py3-none-any.whl (6.4 kB)\n",
            "Collecting lru-dict>=1.1.6\n",
            "  Downloading lru_dict-1.1.8-cp39-cp39-manylinux_2_5_x86_64.manylinux1_x86_64.manylinux_2_17_x86_64.manylinux2014_x86_64.whl (28 kB)\n",
            "Collecting eth-hash[pycryptodome]>=0.5.1\n",
            "  Downloading eth_hash-0.5.1-py3-none-any.whl (9.0 kB)\n",
            "Requirement already satisfied: requests>=2.16.0 in /usr/local/lib/python3.9/dist-packages (from web3) (2.27.1)\n",
            "Collecting eth-utils>=2.1.0\n",
            "  Downloading eth_utils-2.1.0-py3-none-any.whl (24 kB)\n",
            "Collecting websockets>=10.0.0\n",
            "  Downloading websockets-11.0.2-cp39-cp39-manylinux_2_5_x86_64.manylinux1_x86_64.manylinux_2_17_x86_64.manylinux2014_x86_64.whl (129 kB)\n",
            "\u001b[2K     \u001b[90m━━━━━━━━━━━━━━━━━━━━━━━━━━━━━━━━━━━━━━━\u001b[0m \u001b[32m129.7/129.7 kB\u001b[0m \u001b[31m5.9 MB/s\u001b[0m eta \u001b[36m0:00:00\u001b[0m\n",
            "\u001b[?25hCollecting eth-typing>=3.0.0\n",
            "  Downloading eth_typing-3.3.0-py3-none-any.whl (6.3 kB)\n",
            "Collecting frozenlist>=1.1.1\n",
            "  Downloading frozenlist-1.3.3-cp39-cp39-manylinux_2_5_x86_64.manylinux1_x86_64.manylinux_2_17_x86_64.manylinux2014_x86_64.whl (158 kB)\n",
            "\u001b[2K     \u001b[90m━━━━━━━━━━━━━━━━━━━━━━━━━━━━━━━━━━━━━━━\u001b[0m \u001b[32m158.8/158.8 kB\u001b[0m \u001b[31m8.9 MB/s\u001b[0m eta \u001b[36m0:00:00\u001b[0m\n",
            "\u001b[?25hCollecting yarl<2.0,>=1.0\n",
            "  Downloading yarl-1.9.1-cp39-cp39-manylinux_2_17_x86_64.manylinux2014_x86_64.whl (269 kB)\n",
            "\u001b[2K     \u001b[90m━━━━━━━━━━━━━━━━━━━━━━━━━━━━━━━━━━━━━━\u001b[0m \u001b[32m269.3/269.3 kB\u001b[0m \u001b[31m12.4 MB/s\u001b[0m eta \u001b[36m0:00:00\u001b[0m\n",
            "\u001b[?25hRequirement already satisfied: charset-normalizer<4.0,>=2.0 in /usr/local/lib/python3.9/dist-packages (from aiohttp>=3.7.4.post0->web3) (2.0.12)\n",
            "Collecting async-timeout<5.0,>=4.0.0a3\n",
            "  Downloading async_timeout-4.0.2-py3-none-any.whl (5.8 kB)\n",
            "Requirement already satisfied: attrs>=17.3.0 in /usr/local/lib/python3.9/dist-packages (from aiohttp>=3.7.4.post0->web3) (23.1.0)\n",
            "Collecting aiosignal>=1.1.2\n",
            "  Downloading aiosignal-1.3.1-py3-none-any.whl (7.6 kB)\n",
            "Collecting multidict<7.0,>=4.5\n",
            "  Downloading multidict-6.0.4-cp39-cp39-manylinux_2_17_x86_64.manylinux2014_x86_64.whl (114 kB)\n",
            "\u001b[2K     \u001b[90m━━━━━━━━━━━━━━━━━━━━━━━━━━━━━━━━━━━━━━━\u001b[0m \u001b[32m114.2/114.2 kB\u001b[0m \u001b[31m1.1 MB/s\u001b[0m eta \u001b[36m0:00:00\u001b[0m\n",
            "\u001b[?25hCollecting parsimonious<0.10.0,>=0.9.0\n",
            "  Downloading parsimonious-0.9.0.tar.gz (48 kB)\n",
            "\u001b[2K     \u001b[90m━━━━━━━━━━━━━━━━━━━━━━━━━━━━━━━━━━━━━━━━\u001b[0m \u001b[32m48.7/48.7 kB\u001b[0m \u001b[31m3.3 MB/s\u001b[0m eta \u001b[36m0:00:00\u001b[0m\n",
            "\u001b[?25h  Preparing metadata (setup.py) ... \u001b[?25l\u001b[?25hdone\n",
            "Collecting bitarray<3,>=2.4.0\n",
            "  Downloading bitarray-2.7.3-cp39-cp39-manylinux_2_17_x86_64.manylinux2014_x86_64.whl (269 kB)\n",
            "\u001b[2K     \u001b[90m━━━━━━━━━━━━━━━━━━━━━━━━━━━━━━━━━━━━━━\u001b[0m \u001b[32m269.6/269.6 kB\u001b[0m \u001b[31m13.0 MB/s\u001b[0m eta \u001b[36m0:00:00\u001b[0m\n",
            "\u001b[?25hCollecting eth-keys<0.5,>=0.4.0\n",
            "  Downloading eth_keys-0.4.0-py3-none-any.whl (21 kB)\n",
            "Collecting eth-keyfile<0.7.0,>=0.6.0\n",
            "  Downloading eth_keyfile-0.6.1-py3-none-any.whl (6.5 kB)\n",
            "Collecting eth-rlp<1,>=0.3.0\n",
            "  Downloading eth_rlp-0.3.0-py3-none-any.whl (5.0 kB)\n",
            "Collecting rlp<4,>=1.0.0\n",
            "  Downloading rlp-3.0.0-py2.py3-none-any.whl (20 kB)\n",
            "Collecting pycryptodome<4,>=3.6.6\n",
            "  Downloading pycryptodome-3.17-cp35-abi3-manylinux_2_17_x86_64.manylinux2014_x86_64.whl (2.1 MB)\n",
            "\u001b[2K     \u001b[90m━━━━━━━━━━━━━━━━━━━━━━━━━━━━━━━━━━━━━━━━\u001b[0m \u001b[32m2.1/2.1 MB\u001b[0m \u001b[31m44.5 MB/s\u001b[0m eta \u001b[36m0:00:00\u001b[0m\n",
            "\u001b[?25hCollecting cytoolz>=0.10.1\n",
            "  Downloading cytoolz-0.12.1-cp39-cp39-manylinux_2_17_x86_64.manylinux2014_x86_64.whl (1.8 MB)\n",
            "\u001b[2K     \u001b[90m━━━━━━━━━━━━━━━━━━━━━━━━━━━━━━━━━━━━━━━━\u001b[0m \u001b[32m1.8/1.8 MB\u001b[0m \u001b[31m34.9 MB/s\u001b[0m eta \u001b[36m0:00:00\u001b[0m\n",
            "\u001b[?25hRequirement already satisfied: pyrsistent!=0.17.0,!=0.17.1,!=0.17.2,>=0.14.0 in /usr/local/lib/python3.9/dist-packages (from jsonschema>=4.0.0->web3) (0.19.3)\n",
            "Requirement already satisfied: certifi>=2017.4.17 in /usr/local/lib/python3.9/dist-packages (from requests>=2.16.0->web3) (2022.12.7)\n",
            "Requirement already satisfied: idna<4,>=2.5 in /usr/local/lib/python3.9/dist-packages (from requests>=2.16.0->web3) (3.4)\n",
            "Requirement already satisfied: urllib3<1.27,>=1.21.1 in /usr/local/lib/python3.9/dist-packages (from requests>=2.16.0->web3) (1.26.15)\n",
            "Requirement already satisfied: toolz>=0.8.0 in /usr/local/lib/python3.9/dist-packages (from cytoolz>=0.10.1->eth-utils>=2.1.0->web3) (0.12.0)\n",
            "Requirement already satisfied: regex>=2022.3.15 in /usr/local/lib/python3.9/dist-packages (from parsimonious<0.10.0,>=0.9.0->eth-abi>=4.0.0->web3) (2022.10.31)\n",
            "Building wheels for collected packages: parsimonious\n",
            "  Building wheel for parsimonious (setup.py) ... \u001b[?25l\u001b[?25hdone\n",
            "  Created wheel for parsimonious: filename=parsimonious-0.9.0-py3-none-any.whl size=44314 sha256=73ec997b360103d9475800d6ae182ef8dbf3f4fbaf97d83dac79091136302298\n",
            "  Stored in directory: /root/.cache/pip/wheels/98/f5/bb/28d71f018fa6da82e7488371edcbc506add6b3cff02ed9d6fd\n",
            "Successfully built parsimonious\n",
            "Installing collected packages: lru-dict, bitarray, websockets, pycryptodome, protobuf, parsimonious, multidict, hexbytes, frozenlist, eth-typing, eth-hash, cytoolz, async-timeout, yarl, eth-utils, aiosignal, rlp, eth-keys, eth-abi, aiohttp, eth-rlp, eth-keyfile, eth-account, web3\n",
            "  Attempting uninstall: protobuf\n",
            "    Found existing installation: protobuf 3.20.3\n",
            "    Uninstalling protobuf-3.20.3:\n",
            "      Successfully uninstalled protobuf-3.20.3\n",
            "Successfully installed aiohttp-3.8.4 aiosignal-1.3.1 async-timeout-4.0.2 bitarray-2.7.3 cytoolz-0.12.1 eth-abi-4.0.0 eth-account-0.8.0 eth-hash-0.5.1 eth-keyfile-0.6.1 eth-keys-0.4.0 eth-rlp-0.3.0 eth-typing-3.3.0 eth-utils-2.1.0 frozenlist-1.3.3 hexbytes-0.3.0 lru-dict-1.1.8 multidict-6.0.4 parsimonious-0.9.0 protobuf-4.22.3 pycryptodome-3.17 rlp-3.0.0 web3-6.2.0 websockets-11.0.2 yarl-1.9.1\n"
          ]
        }
      ],
      "source": [
        "!pip install web3"
      ]
    },
    {
      "cell_type": "markdown",
      "source": [
        "### Setup your ETH node details"
      ],
      "metadata": {
        "id": "XufJwdO-QiP0"
      }
    },
    {
      "cell_type": "code",
      "source": [
        "# Import web3\n",
        "from web3 import Web3\n",
        "from datetime import datetime, timedelta\n",
        "\n",
        "w3 = Web3(Web3.HTTPProvider('https://goerli.infura.io/v3/fc937ea7d05541d5bef5632d0a8b6376'))\n",
        "\n",
        "print(w3.eth.block_number) #Check if the notebook is connected to the Infura node\n",
        "print(w3.__dict__)"
      ],
      "metadata": {
        "colab": {
          "base_uri": "https://localhost:8080/"
        },
        "id": "zg-XO0-v-yBi",
        "outputId": "5eace452-1d55-4da1-ffc1-8fe9fa800a50"
      },
      "execution_count": null,
      "outputs": [
        {
          "output_type": "stream",
          "name": "stdout",
          "text": [
            "8884151\n",
            "{'manager': <web3.manager.RequestManager object at 0x7f4eae3f1430>, 'codec': <eth_abi.codec.ABICodec object at 0x7f4e8f26ac40>, 'eth': <web3.eth.eth.Eth object at 0x7f4e8f26ad00>, 'net': <web3.net.Net object at 0x7f4e8f26adc0>, 'geth': <web3.geth.Geth object at 0x7f4e8f26ae20>, 'tracing': <web3.tracing.Tracing object at 0x7f4e8f26ad60>, 'testing': <web3.testing.Testing object at 0x7f4e8f26aa00>, '_ens': <web3._utils.empty.Empty object at 0x7f4e8f4a4610>}\n"
          ]
        }
      ]
    },
    {
      "cell_type": "markdown",
      "source": [
        "### Initalize Bot Wallet Credentials\n",
        "These are paper wallets I initiated for this project."
      ],
      "metadata": {
        "id": "qa5iszcZ-6x6"
      }
    },
    {
      "cell_type": "code",
      "source": [
        "# Wallet details\n",
        "\n",
        "gambler1_pub = Web3.to_checksum_address(\"0xD14354360B2678bc36De43E6E4211576994a141C\")\n",
        "gambler2_pub = Web3.to_checksum_address(\"0x0fe8cFf8e612fA042E9D306b5E3e54C77f2b9a04\")\n",
        "gambler3_pub = Web3.to_checksum_address(\"0x9F92451469df93b4565FF62Eacc5e0d6a868e644\")\n",
        "gambler4_pub = Web3.to_checksum_address(\"0xE1876E751bF6767c03fEFeD7be8b9318ac3880fF\")\n",
        "gambler5_pub = Web3.to_checksum_address(\"0x84bC5B776364641cC354Ae8DAf1D462Eafe04F24\")\n",
        "gambler6_pub = Web3.to_checksum_address(\"0xA918967Eb77443a20dF1bc1C2399D531A79Bd60a\")\n",
        "gambler7_pub = Web3.to_checksum_address(\"0xE3cD6022c7290187dd8992EC2C4dB3e8AEa6f0Cc\")\n",
        "gambler8_pub = Web3.to_checksum_address(\"0xe591903fde627573d4a36bFAc6c611Ac5e326f60\")\n",
        "# gambler9_pub = Web3.to_checksum_address(\"0xACa94ef8bD5ffEE41947b4585a84BdA5a3d3DA6E\")\n",
        "# gambler10_pub = Web3.to_checksum_address(\"0x1dF62f291b2E969fB0849d99D9Ce41e2F137006e\")\n",
        "# private keys\n",
        "gambler1_pkey = \"190b11824e1bbbbff925f91fb888ae65f4e49965e476ee015424a5b1cf87822f\"\n",
        "gambler2_pkey = \"85965a40ba79c2887899a9a6d0b71211655602d552a653f617310a93b5710235\"\n",
        "gambler3_pkey = \"212ae191b135ad37c60bc09c4f83dac2b85782bd5e07f6337a3e4a9ce043ff92\"\n",
        "gambler4_pkey = \"0729ed00e423849c1de6a8c883a860496f3b813e008e2def891f81fa45763492\"\n",
        "gambler5_pkey = \"e9bc419bc2665059b94cb313235d3ae0e145cfb6208295053d15c9ff3f35481e\"\n",
        "gambler6_pkey = \"69122f3e503ac6504c709cb507a91e37d24857e2f372b8b47e2d701205376c6e\"\n",
        "gambler7_pkey = \"127be913b48a4acb6edee333b3e16042fd141cb920b273ebd6186915015077bf\"\n",
        "gambler8_pkey = \"58c1089e70a25d99c81548ebf4ef002567c2159f9f3966c31290d81cc9dfc2e9\"\n",
        "# gambler9_pkey = \"0x829e924fdf021ba3dbbc4225edfece9aca04b929d6e75613329ca6f1d31c0bb4\"\n",
        "# gambler10_pkey = \"0xb0057716d5917badaf911b193b12b910811c1497b5bada8d7711f758981c3773\"\n",
        "\n",
        "bot_addr = [\n",
        "    gambler1_pub, gambler2_pub, gambler3_pub, gambler4_pub, gambler5_pub,\n",
        "    gambler6_pub, gambler7_pub, gambler8_pub\n",
        "]\n",
        "bot_keys = [\n",
        "    gambler1_pkey, gambler2_pkey, gambler3_pkey, gambler4_pkey, gambler5_pkey,\n",
        "    gambler6_pkey, gambler7_pkey, gambler8_pkey\n",
        "]"
      ],
      "metadata": {
        "id": "E1IeG0de-9Sy"
      },
      "execution_count": null,
      "outputs": []
    },
    {
      "cell_type": "markdown",
      "source": [
        "###Connect to the Prediction Market contract \n",
        "https://goerli.etherscan.io/address/0xbc8980963ca47a0157d1518d7083754de69e7862#code\n"
      ],
      "metadata": {
        "id": "MKjgb0Yf_HVz"
      }
    },
    {
      "cell_type": "code",
      "source": [
        "contract_addr = Web3.to_checksum_address('0xbC8980963cA47A0157d1518d7083754De69E7862')\n",
        "abi_contract = [\n",
        "\t{\n",
        "\t\t\"inputs\": [\n",
        "\t\t\t{\n",
        "\t\t\t\t\"internalType\": \"enum Predictionmarket.Team\",\n",
        "\t\t\t\t\"name\": \"_team\",\n",
        "\t\t\t\t\"type\": \"uint8\"\n",
        "\t\t\t}\n",
        "\t\t],\n",
        "\t\t\"name\": \"placeBet\",\n",
        "\t\t\"outputs\": [],\n",
        "\t\t\"stateMutability\": \"payable\",\n",
        "\t\t\"type\": \"function\"\n",
        "\t},\n",
        "\t{\n",
        "\t\t\"inputs\": [\n",
        "\t\t\t{\n",
        "\t\t\t\t\"internalType\": \"enum Predictionmarket.Team\",\n",
        "\t\t\t\t\"name\": \"_winner\",\n",
        "\t\t\t\t\"type\": \"uint8\"\n",
        "\t\t\t},\n",
        "\t\t\t{\n",
        "\t\t\t\t\"internalType\": \"enum Predictionmarket.Team\",\n",
        "\t\t\t\t\"name\": \"_loser\",\n",
        "\t\t\t\t\"type\": \"uint8\"\n",
        "\t\t\t}\n",
        "\t\t],\n",
        "\t\t\"name\": \"reportResult\",\n",
        "\t\t\"outputs\": [],\n",
        "\t\t\"stateMutability\": \"nonpayable\",\n",
        "\t\t\"type\": \"function\"\n",
        "\t},\n",
        "\t{\n",
        "\t\t\"inputs\": [\n",
        "\t\t\t{\n",
        "\t\t\t\t\"internalType\": \"address\",\n",
        "\t\t\t\t\"name\": \"_oracle\",\n",
        "\t\t\t\t\"type\": \"address\"\n",
        "\t\t\t}\n",
        "\t\t],\n",
        "\t\t\"stateMutability\": \"nonpayable\",\n",
        "\t\t\"type\": \"constructor\"\n",
        "\t},\n",
        "\t{\n",
        "\t\t\"inputs\": [\n",
        "\t\t\t{\n",
        "\t\t\t\t\"internalType\": \"address payable\",\n",
        "\t\t\t\t\"name\": \"recipient\",\n",
        "\t\t\t\t\"type\": \"address\"\n",
        "\t\t\t}\n",
        "\t\t],\n",
        "\t\t\"name\": \"withdrawGain\",\n",
        "\t\t\"outputs\": [],\n",
        "\t\t\"stateMutability\": \"nonpayable\",\n",
        "\t\t\"type\": \"function\"\n",
        "\t},\n",
        "\t{\n",
        "\t\t\"inputs\": [],\n",
        "\t\t\"name\": \"assignmentGraded\",\n",
        "\t\t\"outputs\": [\n",
        "\t\t\t{\n",
        "\t\t\t\t\"internalType\": \"bool\",\n",
        "\t\t\t\t\"name\": \"\",\n",
        "\t\t\t\t\"type\": \"bool\"\n",
        "\t\t\t}\n",
        "\t\t],\n",
        "\t\t\"stateMutability\": \"view\",\n",
        "\t\t\"type\": \"function\"\n",
        "\t},\n",
        "\t{\n",
        "\t\t\"inputs\": [\n",
        "\t\t\t{\n",
        "\t\t\t\t\"internalType\": \"enum Predictionmarket.Team\",\n",
        "\t\t\t\t\"name\": \"\",\n",
        "\t\t\t\t\"type\": \"uint8\"\n",
        "\t\t\t}\n",
        "\t\t],\n",
        "\t\t\"name\": \"bets\",\n",
        "\t\t\"outputs\": [\n",
        "\t\t\t{\n",
        "\t\t\t\t\"internalType\": \"uint256\",\n",
        "\t\t\t\t\"name\": \"\",\n",
        "\t\t\t\t\"type\": \"uint256\"\n",
        "\t\t\t}\n",
        "\t\t],\n",
        "\t\t\"stateMutability\": \"view\",\n",
        "\t\t\"type\": \"function\"\n",
        "\t},\n",
        "\t{\n",
        "\t\t\"inputs\": [\n",
        "\t\t\t{\n",
        "\t\t\t\t\"internalType\": \"address\",\n",
        "\t\t\t\t\"name\": \"\",\n",
        "\t\t\t\t\"type\": \"address\"\n",
        "\t\t\t},\n",
        "\t\t\t{\n",
        "\t\t\t\t\"internalType\": \"enum Predictionmarket.Team\",\n",
        "\t\t\t\t\"name\": \"\",\n",
        "\t\t\t\t\"type\": \"uint8\"\n",
        "\t\t\t}\n",
        "\t\t],\n",
        "\t\t\"name\": \"betsPerGambler\",\n",
        "\t\t\"outputs\": [\n",
        "\t\t\t{\n",
        "\t\t\t\t\"internalType\": \"uint256\",\n",
        "\t\t\t\t\"name\": \"\",\n",
        "\t\t\t\t\"type\": \"uint256\"\n",
        "\t\t\t}\n",
        "\t\t],\n",
        "\t\t\"stateMutability\": \"view\",\n",
        "\t\t\"type\": \"function\"\n",
        "\t},\n",
        "\t{\n",
        "\t\t\"inputs\": [],\n",
        "\t\t\"name\": \"oracle\",\n",
        "\t\t\"outputs\": [\n",
        "\t\t\t{\n",
        "\t\t\t\t\"internalType\": \"address\",\n",
        "\t\t\t\t\"name\": \"\",\n",
        "\t\t\t\t\"type\": \"address\"\n",
        "\t\t\t}\n",
        "\t\t],\n",
        "\t\t\"stateMutability\": \"view\",\n",
        "\t\t\"type\": \"function\"\n",
        "\t},\n",
        "\t{\n",
        "\t\t\"inputs\": [],\n",
        "\t\t\"name\": \"result\",\n",
        "\t\t\"outputs\": [\n",
        "\t\t\t{\n",
        "\t\t\t\t\"internalType\": \"enum Predictionmarket.Team\",\n",
        "\t\t\t\t\"name\": \"winner\",\n",
        "\t\t\t\t\"type\": \"uint8\"\n",
        "\t\t\t},\n",
        "\t\t\t{\n",
        "\t\t\t\t\"internalType\": \"enum Predictionmarket.Team\",\n",
        "\t\t\t\t\"name\": \"loser\",\n",
        "\t\t\t\t\"type\": \"uint8\"\n",
        "\t\t\t}\n",
        "\t\t],\n",
        "\t\t\"stateMutability\": \"view\",\n",
        "\t\t\"type\": \"function\"\n",
        "\t}\n",
        "]\n",
        "contract = w3.eth.contract(contract_addr, abi=abi_contract)\n"
      ],
      "metadata": {
        "id": "G7ji1Xt1_EOq"
      },
      "execution_count": null,
      "outputs": []
    },
    {
      "cell_type": "markdown",
      "source": [
        "### Programatically place bets for Team A\n",
        "Now, we send bets to the contract, trying to tip the odds that we receive an A to be much higher, hopefully influencing other market participants."
      ],
      "metadata": {
        "id": "XTx8UzcyQzae"
      }
    },
    {
      "cell_type": "code",
      "source": [
        "for i in range(0, len(bot_addr)):\n",
        "  # place bet for Team A\n",
        "  txn = contract.functions.placeBet(0).build_transaction(\n",
        "      {\n",
        "          'nonce':w3.eth.get_transaction_count(bot_addr[i]),\n",
        "          'from':bot_addr[i],\n",
        "          'value': 1000000000000000 \n",
        "      }\n",
        "  )\n",
        "\n",
        "  # Post transaction\n",
        "  signed_txn = w3.eth.account.sign_transaction(txn, bot_keys[i]) # Sign the txn with your private key \n",
        "  txn_hash = w3.eth.send_raw_transaction(signed_txn.rawTransaction) # Send it onto the chain\n",
        "  print(\"Hash of bet transaction : \",w3.to_hex(txn_hash)) # Search the txn hash on etherscan to see if it got confirmed"
      ],
      "metadata": {
        "colab": {
          "base_uri": "https://localhost:8080/"
        },
        "id": "8x3ragirA_Qi",
        "outputId": "3c4d8443-40d5-473e-b2c0-bf1fb90c3cb6"
      },
      "execution_count": null,
      "outputs": [
        {
          "output_type": "stream",
          "name": "stdout",
          "text": [
            "Hash of bet transaction :  0x4b6dfa48f408db1b0af56f365b85c5d062775318d4f65c2a5de038eecd3144bd\n",
            "Hash of bet transaction :  0x2039bed789bd227cd8b47d457c1a579d5b581ed97a6366168184f83fcceb9105\n",
            "Hash of bet transaction :  0x434c916afbff3b34273a42041779324d8ad8719c4acc3caa0d9512fd0e1ee906\n",
            "Hash of bet transaction :  0x329cc34c92bee787497eefc0114775c843d8f139e40cdfec23e555bf29a6afdf\n",
            "Hash of bet transaction :  0xf96e23f1f73b960e403fd74083c5035a0ee55ae5f8eeb74413c5b27d77835f54\n",
            "Hash of bet transaction :  0x94880706c2d3848be8c53f3df380c4837b2eb0d80480d09cfbe2f979f20662e6\n",
            "Hash of bet transaction :  0x3d3d5347dafae0065e90888d2cea6241fb71283dfde0f456485c5d396a75c69d\n",
            "Hash of bet transaction :  0xe4a13c16aa76e5c464631c92183da4496fff8fa665402faee4c6629248ca1dba\n"
          ]
        }
      ]
    },
    {
      "cell_type": "markdown",
      "source": [
        "### Previous Sybil Attacks\n",
        "\n",
        "If you try this code now, it won't work because the accounts have too little funding.\n",
        "\n",
        "### attacks hashes\n",
        "Hash of bet transaction :  0x4b6dfa48f408db1b0af56f365b85c5d062775318d4f65c2a5de038eecd3144bd\n",
        "Hash of bet transaction :  0x2039bed789bd227cd8b47d457c1a579d5b581ed97a6366168184f83fcceb9105\n",
        "Hash of bet transaction :  0x434c916afbff3b34273a42041779324d8ad8719c4acc3caa0d9512fd0e1ee906\n",
        "Hash of bet transaction :  0x329cc34c92bee787497eefc0114775c843d8f139e40cdfec23e555bf29a6afdf\n",
        "Hash of bet transaction :  0xf96e23f1f73b960e403fd74083c5035a0ee55ae5f8eeb74413c5b27d77835f54\n",
        "Hash of bet transaction :  0x94880706c2d3848be8c53f3df380c4837b2eb0d80480d09cfbe2f979f20662e6\n",
        "Hash of bet transaction :  0x3d3d5347dafae0065e90888d2cea6241fb71283dfde0f456485c5d396a75c69d\n",
        "Hash of bet transaction :  0xe4a13c16aa76e5c464631c92183da4496fff8fa665402faee4c6629248ca1dba"
      ],
      "metadata": {
        "id": "A_7SKGvEAyin"
      }
    }
  ]
}